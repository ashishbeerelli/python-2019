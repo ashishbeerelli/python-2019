{
 "cells": [
  {
   "cell_type": "code",
   "execution_count": 9,
   "metadata": {},
   "outputs": [
    {
     "name": "stdout",
     "output_type": "stream",
     "text": [
      "item is found\n"
     ]
    }
   ],
   "source": [
    "def binarysearch(a,findex,rindex,taritem):\n",
    "    while findex <= rindex:\n",
    "        mindex= findex+(rindex-findex)//2\n",
    "        if a[mindex] == taritem:\n",
    "            return mindex\n",
    "        if a[mindex]>taritem:\n",
    "            rindex = mindex-1\n",
    "        else:\n",
    "            findex=mindex+1\n",
    "    return -1\n",
    "list1=[1,2,4,6,7,56,87]\n",
    "res=binarysearch(list1,0,6,56)\n",
    "if res!= -1:\n",
    "    print(\"item is found\")\n",
    "else:\n",
    "    print(\"item not found\")"
   ]
  },
  {
   "cell_type": "code",
   "execution_count": 11,
   "metadata": {},
   "outputs": [
    {
     "name": "stdout",
     "output_type": "stream",
     "text": [
      "3 7 9 37 67 76 "
     ]
    }
   ],
   "source": [
    "def sortingnum(a):\n",
    "    for i in range(len(a)-1):\n",
    "        for j in range(len(a)-1):\n",
    "            if a[j] > a[j+1]:\n",
    "                a[j],a[j+1] = a[j+1],a[j]\n",
    "\n",
    "    for i in range(len(a)):\n",
    "        print(a[i],end=\" \")\n",
    "list1=[76,67,7,37,3,9]\n",
    "sortingnum(list1)"
   ]
  },
  {
   "cell_type": "code",
   "execution_count": 14,
   "metadata": {},
   "outputs": [
    {
     "name": "stdout",
     "output_type": "stream",
     "text": [
      "application\n",
      "application\n",
      " application test\n",
      "      working\n",
      "      completed\n",
      "      list\n",
      "      string\n",
      "      phyton \n"
     ]
    }
   ],
   "source": [
    "str =\"application\"\n",
    "print(str)\n",
    "\n",
    "str1='application'\n",
    "print(str1)\n",
    "\n",
    "str2=\"\"\" application test\n",
    "      working\n",
    "      completed\n",
    "      list\n",
    "      string\n",
    "      phyton \"\"\"\n",
    "print(str2)"
   ]
  },
  {
   "cell_type": "code",
   "execution_count": 31,
   "metadata": {},
   "outputs": [
    {
     "name": "stdout",
     "output_type": "stream",
     "text": [
      "application\n",
      "str[0] =  a\n",
      "str[-1] =  n\n",
      "str[-5] =  a\n",
      "str[1:5] =  ppli\n",
      "str[0:3] =  app\n",
      "str[:5] =  appli\n",
      "str[1:-4] =  pplica\n",
      "str[1:4] =  ppl\n",
      "str[::-1] =  noitacilppa\n",
      "str[5:0:-1] =  cilpp\n"
     ]
    }
   ],
   "source": [
    "str =\"application\"\n",
    "print(str)\n",
    "print(\"str[0] = \",str[0])\n",
    "print(\"str[-1] = \",str[-1])\n",
    "print(\"str[-5] = \",str[-5])\n",
    "print(\"str[1:5] = \",str[1:5])\n",
    "print(\"str[0:3] = \",str[0:3])\n",
    "print(\"str[:5] = \",str[:5])\n",
    "print(\"str[1:-4] = \",str[1:-4])\n",
    "print(\"str[1:4] = \",str[1:4])\n",
    "print(\"str[::-1] = \",str[::-1])\n",
    "print(\"str[5:0:-1] = \",str[5:0:-1])"
   ]
  },
  {
   "cell_type": "code",
   "execution_count": 40,
   "metadata": {},
   "outputs": [
    {
     "name": "stdout",
     "output_type": "stream",
     "text": [
      "False\n",
      "True\n"
     ]
    }
   ],
   "source": [
    "def ispalindrome(s):\n",
    "    if s==s[::-1]:\n",
    "        return True\n",
    "    else:\n",
    "        return False\n",
    "print(ispalindrome(\"ashish\"))\n",
    "print(ispalindrome(\"maam\"))"
   ]
  },
  {
   "cell_type": "code",
   "execution_count": 33,
   "metadata": {},
   "outputs": [
    {
     "name": "stdout",
     "output_type": "stream",
     "text": [
      "Enter The Number12\n",
      "2\n"
     ]
    }
   ],
   "source": [
    "n=int(input(\"Enter The Number\"))\n",
    "cnt=0\n",
    "while n!=0:\n",
    "    cnt=cnt+1\n",
    "    n=n//10\n",
    "print(cnt)"
   ]
  },
  {
   "cell_type": "code",
   "execution_count": null,
   "metadata": {},
   "outputs": [],
   "source": [
    "def countchars(str):\n",
    "    return len(str)\n",
    "\n",
    "\n",
    "\n",
    "s=str(input(\"Enter a String\"))\n",
    "countchars(s)\n"
   ]
  },
  {
   "cell_type": "code",
   "execution_count": 43,
   "metadata": {},
   "outputs": [
    {
     "name": "stdout",
     "output_type": "stream",
     "text": [
      "6\n"
     ]
    }
   ],
   "source": [
    "def countupperletters(str):\n",
    "    cnt=0\n",
    "    lst = list(str)\n",
    "    for x in range (len(lst)):\n",
    "        if ord(lst[x])>=65 and ord(lst[x])<=90:\n",
    "            cnt=cnt+1\n",
    "    return cnt\n",
    "\n",
    "print(countupperletters(\"HJKHJH\")) \n",
    "\n"
   ]
  },
  {
   "cell_type": "code",
   "execution_count": 7,
   "metadata": {},
   "outputs": [
    {
     "name": "stdout",
     "output_type": "stream",
     "text": [
      "6346None\n"
     ]
    }
   ],
   "source": [
    "def printdigital(str):\n",
    "    lst= list(str)\n",
    "    for x in range(len(lst)):\n",
    "        if ord(lst[x])>=48 and ord(lst[x])<=57:\n",
    "            print(lst[x],end =\"\")\n",
    "            \n",
    "    return\n",
    "print(printdigital(\"gfjegy6346\"))"
   ]
  },
  {
   "cell_type": "code",
   "execution_count": 5,
   "metadata": {},
   "outputs": [
    {
     "data": {
      "text/plain": [
       "12"
      ]
     },
     "execution_count": 5,
     "metadata": {},
     "output_type": "execute_result"
    }
   ],
   "source": [
    " def sumofdigits(str):\n",
    "    sum=0\n",
    "    lst=list(str)\n",
    "    for x in range(len(lst)):\n",
    "         if ord(lst[x])>=48 and ord(lst[x])<=57:\n",
    "                sum=sum+ord(lst[x])-48\n",
    "              \n",
    "    return sum\n",
    "sumofdigits(\"gefuyjwefh345\")"
   ]
  },
  {
   "cell_type": "code",
   "execution_count": 22,
   "metadata": {},
   "outputs": [
    {
     "data": {
      "text/plain": [
       "10"
      ]
     },
     "execution_count": 22,
     "metadata": {},
     "output_type": "execute_result"
    }
   ],
   "source": [
    "def sumofdigitseven(str):\n",
    "    sum=0\n",
    "    lst=list(str)\n",
    "    for x in range(len(lst)):\n",
    "        if ord(lst[x])>=48 and ord(lst[x])<=57:\n",
    "            if((ord(lst[x])-48)%2==0):\n",
    "                sum=sum+ord(lst[x])-48\n",
    "    return sum\n",
    "sumofdigitseven(\"sdrtge4657\")"
   ]
  },
  {
   "cell_type": "code",
   "execution_count": null,
   "metadata": {},
   "outputs": [],
   "source": []
  }
 ],
 "metadata": {
  "kernelspec": {
   "display_name": "Python 3",
   "language": "python",
   "name": "python3"
  },
  "language_info": {
   "codemirror_mode": {
    "name": "ipython",
    "version": 3
   },
   "file_extension": ".py",
   "mimetype": "text/x-python",
   "name": "python",
   "nbconvert_exporter": "python",
   "pygments_lexer": "ipython3",
   "version": "3.7.3"
  }
 },
 "nbformat": 4,
 "nbformat_minor": 2
}
