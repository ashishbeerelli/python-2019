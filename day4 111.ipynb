{
 "cells": [
  {
   "cell_type": "code",
   "execution_count": 1,
   "metadata": {},
   "outputs": [
    {
     "name": "stdout",
     "output_type": "stream",
     "text": [
      "True\n",
      "False\n"
     ]
    }
   ],
   "source": [
    "s=\"khrsuherfjdb\"\n",
    "r=\"jhwbf23e\"\n",
    "print(s.isalpha())\n",
    "print(r.isalpha())"
   ]
  },
  {
   "cell_type": "code",
   "execution_count": 10,
   "metadata": {},
   "outputs": [
    {
     "name": "stdout",
     "output_type": "stream",
     "text": [
      "False\n",
      "True\n"
     ]
    }
   ],
   "source": [
    "s=\"khrsuherhj789fjdb\"\n",
    "r=\"578647823456\"\n",
    "print(s.isnumeric())\n",
    "print(r.isnumeric())"
   ]
  },
  {
   "cell_type": "code",
   "execution_count": 11,
   "metadata": {},
   "outputs": [
    {
     "name": "stdout",
     "output_type": "stream",
     "text": [
      "True\n",
      "False\n"
     ]
    }
   ],
   "source": [
    "s=\"khrsuherfjdb\"\n",
    "r=\"DERDhdgf\"\n",
    "print(s.islower())\n",
    "print(r.islower())"
   ]
  },
  {
   "cell_type": "code",
   "execution_count": 12,
   "metadata": {},
   "outputs": [
    {
     "name": "stdout",
     "output_type": "stream",
     "text": [
      "False\n",
      "True\n"
     ]
    }
   ],
   "source": [
    "s=\"khrsuherfjFVGdb\"\n",
    "r=\"DERDCDFDF\"\n",
    "print(s.isupper())\n",
    "print(r.isupper())"
   ]
  },
  {
   "cell_type": "code",
   "execution_count": 34,
   "metadata": {},
   "outputs": [
    {
     "name": "stdout",
     "output_type": "stream",
     "text": [
      "False\n",
      "False\n"
     ]
    }
   ],
   "source": [
    "s=\"jfk df jkf\"\n",
    "r=\"problemsolving\"\n",
    "print(s.isspace())\n",
    "print(r.isspace())"
   ]
  },
  {
   "cell_type": "code",
   "execution_count": 23,
   "metadata": {},
   "outputs": [
    {
     "name": "stdout",
     "output_type": "stream",
     "text": [
      "P r o b l e m\n"
     ]
    }
   ],
   "source": [
    "str=\"Problem\"\n",
    "print(\" \".join(str))"
   ]
  },
  {
   "cell_type": "code",
   "execution_count": 45,
   "metadata": {},
   "outputs": [
    {
     "name": "stdout",
     "output_type": "stream",
     "text": [
      "h,g,s,d,f,,,i,u,d,f,h,e,i,,,d,f,j,h,e,d\n"
     ]
    }
   ],
   "source": [
    "print(\",\".join(\"hgsdf,iudfhei,dfjhed\"))"
   ]
  },
  {
   "cell_type": "code",
   "execution_count": 44,
   "metadata": {},
   "outputs": [
    {
     "data": {
      "text/plain": [
       "True"
      ]
     },
     "execution_count": 44,
     "metadata": {},
     "output_type": "execute_result"
    }
   ],
   "source": [
    "for a in range"
   ]
  },
  {
   "cell_type": "code",
   "execution_count": 64,
   "metadata": {},
   "outputs": [
    {
     "data": {
      "text/plain": [
       "'eiubnfk uihedi iehy'"
      ]
     },
     "execution_count": 64,
     "metadata": {},
     "output_type": "execute_result"
    }
   ],
   "source": [
    "s=\"eiubnfk ,uihedi ,iehy\"\n",
    "st=s.split(',')\n",
    "''.join(st)"
   ]
  },
  {
   "cell_type": "code",
   "execution_count": 51,
   "metadata": {},
   "outputs": [
    {
     "name": "stdout",
     "output_type": "stream",
     "text": [
      "hffifbd abcdedfhuf\n"
     ]
    }
   ],
   "source": [
    "s=\"hffifbd jdfhuf\"\n",
    "print(s.replace(\"jd\",\"abcded\"))"
   ]
  },
  {
   "cell_type": "code",
   "execution_count": 9,
   "metadata": {},
   "outputs": [
    {
     "name": "stdout",
     "output_type": "stream",
     "text": [
      "('yvfg', 'uidfui', 'kuwe', 54, 4678, 'usefuy hdfguy', 'FDS')\n",
      "t1[1]= yvfg\n",
      "t1[7]= FDS\n",
      "t1[6:0:-1]= ('FDS', 'usefuy hdfguy', 4678, 54, 'kuwe', 'uidfui')\n"
     ]
    }
   ],
   "source": [
    "t1=(\"yvfg\",\"uidfui\",\"kuwe\",54,4678,\"usefuy hdfguy\",\"FDS\")\n",
    "print(t1)\n",
    "print(\"t1[1]=\",t1[0])\n",
    "print(\"t1[7]=\",t1[-1])\n",
    "print(\"t1[6:0:-1]=\",t1[6:0:-1])"
   ]
  },
  {
   "cell_type": "code",
   "execution_count": 14,
   "metadata": {},
   "outputs": [
    {
     "name": "stdout",
     "output_type": "stream",
     "text": [
      "('yvfg', 'uidfui', 'kuwe', 54, 4678, 'usefuy hdfguy', 'FDS')\n"
     ]
    }
   ],
   "source": [
    "t1=(\"yvfg\",\"uidfui\",\"kuwe\",54,4678,\"usefuy hdfguy\",\"FDS\")\n",
    "print(t1)\n",
    "del t1"
   ]
  },
  {
   "cell_type": "code",
   "execution_count": 16,
   "metadata": {},
   "outputs": [
    {
     "name": "stdout",
     "output_type": "stream",
     "text": [
      "7\n"
     ]
    }
   ],
   "source": [
    "t1=(\"yvfg\",\"uidfui\",\"kuwe\",54,4678,\"usefuy hdfguy\",\"FDS\")\n",
    "print(len(t1))"
   ]
  },
  {
   "cell_type": "code",
   "execution_count": 18,
   "metadata": {},
   "outputs": [
    {
     "name": "stdout",
     "output_type": "stream",
     "text": [
      "897\n"
     ]
    }
   ],
   "source": [
    "t1=(12,34,56,788,897,56,5,34)\n",
    "print(max(t1))"
   ]
  },
  {
   "cell_type": "code",
   "execution_count": 19,
   "metadata": {},
   "outputs": [
    {
     "name": "stdout",
     "output_type": "stream",
     "text": [
      "5\n"
     ]
    }
   ],
   "source": [
    "t1=(12,34,56,788,897,56,5,34)\n",
    "print(min(t1))"
   ]
  },
  {
   "cell_type": "code",
   "execution_count": 3,
   "metadata": {},
   "outputs": [
    {
     "name": "stdout",
     "output_type": "stream",
     "text": [
      "(12, 34, 56, 788, 897, 56, 5, 34)\n",
      "(12, 34, 56, 788, 897, 56, 5, 34)\n"
     ]
    },
    {
     "ename": "NameError",
     "evalue": "name 'cmp' is not defined",
     "output_type": "error",
     "traceback": [
      "\u001b[1;31m---------------------------------------------------------------------------\u001b[0m",
      "\u001b[1;31mNameError\u001b[0m                                 Traceback (most recent call last)",
      "\u001b[1;32m<ipython-input-3-96afd8bd30f2>\u001b[0m in \u001b[0;36m<module>\u001b[1;34m\u001b[0m\n\u001b[0;32m      3\u001b[0m \u001b[0mprint\u001b[0m\u001b[1;33m(\u001b[0m\u001b[0mt1\u001b[0m\u001b[1;33m)\u001b[0m\u001b[1;33m\u001b[0m\u001b[1;33m\u001b[0m\u001b[0m\n\u001b[0;32m      4\u001b[0m \u001b[0mprint\u001b[0m\u001b[1;33m(\u001b[0m\u001b[0mt2\u001b[0m\u001b[1;33m)\u001b[0m\u001b[1;33m\u001b[0m\u001b[1;33m\u001b[0m\u001b[0m\n\u001b[1;32m----> 5\u001b[1;33m \u001b[0mb\u001b[0m\u001b[1;33m=\u001b[0m\u001b[0mcmp\u001b[0m\u001b[1;33m(\u001b[0m\u001b[0mt1\u001b[0m\u001b[1;33m,\u001b[0m\u001b[0mt2\u001b[0m\u001b[1;33m)\u001b[0m\u001b[1;33m\u001b[0m\u001b[1;33m\u001b[0m\u001b[0m\n\u001b[0m\u001b[0;32m      6\u001b[0m \u001b[0mprint\u001b[0m\u001b[1;33m(\u001b[0m\u001b[0ma\u001b[0m\u001b[1;33m)\u001b[0m\u001b[1;33m\u001b[0m\u001b[1;33m\u001b[0m\u001b[0m\n",
      "\u001b[1;31mNameError\u001b[0m: name 'cmp' is not defined"
     ]
    }
   ],
   "source": [
    "t1=(12,34,56,788,897,56,5,34)\n",
    "t2=(12,34,56,788,897,56,5,34)\n",
    "print(t1)\n",
    "print(t2)\n",
    "b=cmp(t1,t2)\n",
    "print(a)"
   ]
  },
  {
   "cell_type": "code",
   "execution_count": 31,
   "metadata": {},
   "outputs": [
    {
     "name": "stdout",
     "output_type": "stream",
     "text": [
      "('yvfg', 'uidfui', 'kuwe', 54, 4678, 'usefuy hdfguy', 'FDS')\n"
     ]
    },
    {
     "ename": "TypeError",
     "evalue": "'tuple' object is not callable",
     "output_type": "error",
     "traceback": [
      "\u001b[1;31m---------------------------------------------------------------------------\u001b[0m",
      "\u001b[1;31mTypeError\u001b[0m                                 Traceback (most recent call last)",
      "\u001b[1;32m<ipython-input-31-f5c76152a5c0>\u001b[0m in \u001b[0;36m<module>\u001b[1;34m\u001b[0m\n\u001b[0;32m      1\u001b[0m \u001b[0mt1\u001b[0m\u001b[1;33m=\u001b[0m\u001b[1;33m(\u001b[0m\u001b[1;34m\"yvfg\"\u001b[0m\u001b[1;33m,\u001b[0m\u001b[1;34m\"uidfui\"\u001b[0m\u001b[1;33m,\u001b[0m\u001b[1;34m\"kuwe\"\u001b[0m\u001b[1;33m,\u001b[0m\u001b[1;36m54\u001b[0m\u001b[1;33m,\u001b[0m\u001b[1;36m4678\u001b[0m\u001b[1;33m,\u001b[0m\u001b[1;34m\"usefuy hdfguy\"\u001b[0m\u001b[1;33m,\u001b[0m\u001b[1;34m\"FDS\"\u001b[0m\u001b[1;33m)\u001b[0m\u001b[1;33m\u001b[0m\u001b[1;33m\u001b[0m\u001b[0m\n\u001b[0;32m      2\u001b[0m \u001b[0mprint\u001b[0m\u001b[1;33m(\u001b[0m\u001b[0mt1\u001b[0m\u001b[1;33m)\u001b[0m\u001b[1;33m\u001b[0m\u001b[1;33m\u001b[0m\u001b[0m\n\u001b[1;32m----> 3\u001b[1;33m \u001b[0mtuple\u001b[0m\u001b[1;33m=\u001b[0m\u001b[0mtuple\u001b[0m\u001b[1;33m(\u001b[0m\u001b[0mt1\u001b[0m\u001b[1;33m)\u001b[0m\u001b[1;33m\u001b[0m\u001b[1;33m\u001b[0m\u001b[0m\n\u001b[0m\u001b[0;32m      4\u001b[0m \u001b[0mprint\u001b[0m\u001b[1;33m(\u001b[0m\u001b[0mtuple\u001b[0m\u001b[1;33m)\u001b[0m\u001b[1;33m\u001b[0m\u001b[1;33m\u001b[0m\u001b[0m\n",
      "\u001b[1;31mTypeError\u001b[0m: 'tuple' object is not callable"
     ]
    }
   ],
   "source": [
    "t1=(\"yvfg\",\"uidfui\",\"kuwe\",54,4678,\"usefuy hdfguy\",\"FDS\")\n",
    "print(t1)\n",
    "tuple=tuple(t1)\n",
    "print(tuple)"
   ]
  },
  {
   "cell_type": "code",
   "execution_count": 32,
   "metadata": {},
   "outputs": [
    {
     "name": "stdout",
     "output_type": "stream",
     "text": [
      "('yvfg', 'uidfui', 'kuwe', 54, 4678, 'usefuy hdfguy', 'FDS')\n"
     ]
    },
    {
     "ename": "TypeError",
     "evalue": "'tuple' object is not callable",
     "output_type": "error",
     "traceback": [
      "\u001b[1;31m---------------------------------------------------------------------------\u001b[0m",
      "\u001b[1;31mTypeError\u001b[0m                                 Traceback (most recent call last)",
      "\u001b[1;32m<ipython-input-32-f5c76152a5c0>\u001b[0m in \u001b[0;36m<module>\u001b[1;34m\u001b[0m\n\u001b[0;32m      1\u001b[0m \u001b[0mt1\u001b[0m\u001b[1;33m=\u001b[0m\u001b[1;33m(\u001b[0m\u001b[1;34m\"yvfg\"\u001b[0m\u001b[1;33m,\u001b[0m\u001b[1;34m\"uidfui\"\u001b[0m\u001b[1;33m,\u001b[0m\u001b[1;34m\"kuwe\"\u001b[0m\u001b[1;33m,\u001b[0m\u001b[1;36m54\u001b[0m\u001b[1;33m,\u001b[0m\u001b[1;36m4678\u001b[0m\u001b[1;33m,\u001b[0m\u001b[1;34m\"usefuy hdfguy\"\u001b[0m\u001b[1;33m,\u001b[0m\u001b[1;34m\"FDS\"\u001b[0m\u001b[1;33m)\u001b[0m\u001b[1;33m\u001b[0m\u001b[1;33m\u001b[0m\u001b[0m\n\u001b[0;32m      2\u001b[0m \u001b[0mprint\u001b[0m\u001b[1;33m(\u001b[0m\u001b[0mt1\u001b[0m\u001b[1;33m)\u001b[0m\u001b[1;33m\u001b[0m\u001b[1;33m\u001b[0m\u001b[0m\n\u001b[1;32m----> 3\u001b[1;33m \u001b[0mtuple\u001b[0m\u001b[1;33m=\u001b[0m\u001b[0mtuple\u001b[0m\u001b[1;33m(\u001b[0m\u001b[0mt1\u001b[0m\u001b[1;33m)\u001b[0m\u001b[1;33m\u001b[0m\u001b[1;33m\u001b[0m\u001b[0m\n\u001b[0m\u001b[0;32m      4\u001b[0m \u001b[0mprint\u001b[0m\u001b[1;33m(\u001b[0m\u001b[0mtuple\u001b[0m\u001b[1;33m)\u001b[0m\u001b[1;33m\u001b[0m\u001b[1;33m\u001b[0m\u001b[0m\n",
      "\u001b[1;31mTypeError\u001b[0m: 'tuple' object is not callable"
     ]
    }
   ],
   "source": [
    "t1=(\"yvfg\",\"uidfui\",\"kuwe\",54,4678,\"usefuy hdfguy\",\"FDS\")\n",
    "print(t1)\n",
    "tuple=tuple(t1)\n",
    "print(tuple)"
   ]
  },
  {
   "cell_type": "code",
   "execution_count": 2,
   "metadata": {},
   "outputs": [
    {
     "name": "stdout",
     "output_type": "stream",
     "text": [
      "contact anil added\n",
      "contact sunil added\n",
      "contact anil already exists\n"
     ]
    }
   ],
   "source": [
    "contact={}\n",
    "def addContact(name,phone):\n",
    "    if name not in contact:\n",
    "        contact[name]=phone\n",
    "        print(\"contact %s added\" % name)\n",
    "    else:\n",
    "         print(\"contact %s already exists\" % name)\n",
    "    \n",
    "    return\n",
    "\n",
    "addContact(\"anil\",9856452654)\n",
    "addContact(\"sunil\",9776452654)\n",
    "addContact(\"anil\",9856452654)"
   ]
  },
  {
   "cell_type": "code",
   "execution_count": 4,
   "metadata": {},
   "outputs": [
    {
     "name": "stdout",
     "output_type": "stream",
     "text": [
      "anil : 9856452654\n",
      "sunil : 9776452654\n",
      "suresh does not exists\n"
     ]
    }
   ],
   "source": [
    "def searchContact(name):\n",
    "    if name in contact:\n",
    "        print(name, \":\" ,contact[name])\n",
    "    else:\n",
    "        print(\"%s does not exists\" % name)\n",
    "    return\n",
    "\n",
    "searchContact(\"anil\")\n",
    "searchContact(\"sunil\")\n",
    "searchContact(\"suresh\")"
   ]
  },
  {
   "cell_type": "code",
   "execution_count": 10,
   "metadata": {},
   "outputs": [
    {
     "name": "stdout",
     "output_type": "stream",
     "text": [
      "2 contacts added sucessfelly\n"
     ]
    }
   ],
   "source": [
    "def importContacts(newcontacts):\n",
    "    contact.update(newcontacts)\n",
    "    print(len(newcontacts.keys()),\"contacts added sucessfelly\")\n",
    "    return\n",
    "newcontacts= {'sujith':9568742564,'shiva':9632584512}\n",
    "importContacts(newcontacts)"
   ]
  },
  {
   "cell_type": "code",
   "execution_count": 11,
   "metadata": {},
   "outputs": [
    {
     "name": "stdout",
     "output_type": "stream",
     "text": [
      "{'anil': 9856452654, 'sunil': 9776452654, 'sujith': 9568742564, 'shiva': 9632584512}\n"
     ]
    }
   ],
   "source": [
    "print(contact)"
   ]
  },
  {
   "cell_type": "code",
   "execution_count": 14,
   "metadata": {},
   "outputs": [
    {
     "name": "stdout",
     "output_type": "stream",
     "text": [
      "sunil  : is deleted fron contacts\n",
      "prem  : is not exists in contacts\n"
     ]
    }
   ],
   "source": [
    "def deletecontacts(name):\n",
    "    if name in contact:\n",
    "        del contact[name]\n",
    "        print(name,\" : is deleted fron contacts\")\n",
    "    else:\n",
    "         print(name,\" : is not exists in contacts\")\n",
    "    return\n",
    "deletecontacts(\"sunil\")\n",
    "deletecontacts(\"prem\")"
   ]
  },
  {
   "cell_type": "code",
   "execution_count": 20,
   "metadata": {},
   "outputs": [
    {
     "name": "stdout",
     "output_type": "stream",
     "text": [
      "sravan not exists in the contact\n",
      "sujith : updated with newe phone number\n",
      "pavan not exists in the contact\n"
     ]
    }
   ],
   "source": [
    "def updateContact(name,phone):\n",
    "    if name in contact:\n",
    "        contact[name]=phone;\n",
    "        print( name,\": updated with newe phone number\")\n",
    "    else:\n",
    "        print(name,\"not exists in the contact\" )\n",
    "    return ;\n",
    "updateContact(\"sravan\",8738325409)\n",
    "updateContact(\"sujith\",9563258745)\n",
    "updateContact(\"pavan\",8387298915)"
   ]
  },
  {
   "cell_type": "code",
   "execution_count": 23,
   "metadata": {},
   "outputs": [
    {
     "name": "stdout",
     "output_type": "stream",
     "text": [
      "63 119 110 39 14 69 111 94 38 109 "
     ]
    }
   ],
   "source": [
    "import random\n",
    "def generaterandomnum(n,lb,ub):\n",
    "    for i in  range(0,n):\n",
    "        print(random.randint(lb,ub),end=\" \")\n",
    "    return\n",
    "generaterandomnum(10,12,120)"
   ]
  },
  {
   "cell_type": "code",
   "execution_count": 24,
   "metadata": {},
   "outputs": [
    {
     "ename": "KeyError",
     "evalue": "('a', 'b')",
     "output_type": "error",
     "traceback": [
      "\u001b[1;31m---------------------------------------------------------------------------\u001b[0m",
      "\u001b[1;31mKeyError\u001b[0m                                  Traceback (most recent call last)",
      "\u001b[1;32m<ipython-input-24-c08130b0d584>\u001b[0m in \u001b[0;36m<module>\u001b[1;34m\u001b[0m\n\u001b[0;32m      1\u001b[0m \u001b[0ma\u001b[0m\u001b[1;33m=\u001b[0m\u001b[1;33m{\u001b[0m\u001b[1;34m'a'\u001b[0m\u001b[1;33m:\u001b[0m\u001b[1;36m1\u001b[0m\u001b[1;33m,\u001b[0m\u001b[1;34m'b'\u001b[0m\u001b[1;33m:\u001b[0m\u001b[1;36m2\u001b[0m\u001b[1;33m,\u001b[0m\u001b[1;34m'c'\u001b[0m\u001b[1;33m:\u001b[0m\u001b[1;36m3\u001b[0m\u001b[1;33m}\u001b[0m\u001b[1;33m\u001b[0m\u001b[1;33m\u001b[0m\u001b[0m\n\u001b[1;32m----> 2\u001b[1;33m \u001b[0mprint\u001b[0m\u001b[1;33m(\u001b[0m\u001b[0ma\u001b[0m\u001b[1;33m[\u001b[0m\u001b[1;34m'a'\u001b[0m\u001b[1;33m,\u001b[0m\u001b[1;34m'b'\u001b[0m\u001b[1;33m]\u001b[0m\u001b[1;33m)\u001b[0m\u001b[1;33m\u001b[0m\u001b[1;33m\u001b[0m\u001b[0m\n\u001b[0m",
      "\u001b[1;31mKeyError\u001b[0m: ('a', 'b')"
     ]
    }
   ],
   "source": [
    "a={'a':1,'b':2,'c':3}\n",
    "print(a['a','b'])"
   ]
  },
  {
   "cell_type": "code",
   "execution_count": 26,
   "metadata": {},
   "outputs": [
    {
     "name": "stdout",
     "output_type": "stream",
     "text": [
      "The ceil of 2.3 is : 3\n"
     ]
    }
   ],
   "source": [
    "import math \n",
    "  \n",
    "a = 2.3\n",
    "print (\"The ceil of 2.3 is : \", end=\"\") \n",
    "print (math.ceil(a)) "
   ]
  },
  {
   "cell_type": "code",
   "execution_count": 27,
   "metadata": {},
   "outputs": [
    {
     "name": "stdout",
     "output_type": "stream",
     "text": [
      "The floor of 2.3 is : 2\n"
     ]
    }
   ],
   "source": [
    "import math \n",
    "  \n",
    "a = 2.3\n",
    "print (\"The floor of 2.3 is : \", end=\"\") \n",
    "print (math.floor(a)) "
   ]
  },
  {
   "cell_type": "code",
   "execution_count": 28,
   "metadata": {},
   "outputs": [
    {
     "name": "stdout",
     "output_type": "stream",
     "text": [
      "The absolute value of -10 is : 10.0\n"
     ]
    }
   ],
   "source": [
    "a = -10\n",
    "  \n",
    "b= 5\n",
    "print (\"The absolute value of -10 is : \", end=\"\") \n",
    "print (math.fabs(a))"
   ]
  },
  {
   "cell_type": "code",
   "execution_count": 29,
   "metadata": {},
   "outputs": [
    {
     "name": "stdout",
     "output_type": "stream",
     "text": [
      "The factorial of 5 is : 120\n"
     ]
    }
   ],
   "source": [
    "a = -10\n",
    "  \n",
    "b= 5\n",
    "print (\"The factorial of 5 is : \", end=\"\") \n",
    "print (math.factorial(b)) "
   ]
  },
  {
   "cell_type": "code",
   "execution_count": 30,
   "metadata": {},
   "outputs": [
    {
     "name": "stdout",
     "output_type": "stream",
     "text": [
      "The copysigned value of -10 and 5.5 is : -5.5\n"
     ]
    }
   ],
   "source": [
    "a = -10\n",
    "b = 5.5\n",
    "c = 15\n",
    "d = 5\n",
    "print (\"The copysigned value of -10 and 5.5 is : \", end=\"\") \n",
    "print (math.copysign(5.5, -10)) "
   ]
  },
  {
   "cell_type": "code",
   "execution_count": 31,
   "metadata": {},
   "outputs": [
    {
     "name": "stdout",
     "output_type": "stream",
     "text": [
      "The gcd of 5 and 15 is : 5\n"
     ]
    }
   ],
   "source": [
    "a = -10\n",
    "b = 5.5\n",
    "c = 15\n",
    "d = 5\n",
    "print (\"The gcd of 5 and 15 is : \", end=\"\") \n",
    "print (math.gcd(5,15)) "
   ]
  },
  {
   "cell_type": "code",
   "execution_count": 32,
   "metadata": {},
   "outputs": [
    {
     "name": "stdout",
     "output_type": "stream",
     "text": [
      "8.0\n"
     ]
    }
   ],
   "source": [
    "import math\n",
    "\n",
    "print(math.pow(2, 3))"
   ]
  },
  {
   "cell_type": "code",
   "execution_count": 35,
   "metadata": {},
   "outputs": [
    {
     "name": "stdout",
     "output_type": "stream",
     "text": [
      "The given number (x) is : 0.0001\n",
      "e^x (using exp() function) is : 0.0001000050001667141\n",
      "log(fabs(x), base) is : -3.999999999999999\n"
     ]
    }
   ],
   "source": [
    "import math\n",
    "\n",
    "number = 1e-4\n",
    "print('The given number (x) is :', number)\n",
    "print('e^x (using exp() function) is :', math.exp(number)-1)\n",
    "print('log(fabs(x), base) is :', math.log(math.fabs(number), 10))"
   ]
  },
  {
   "cell_type": "code",
   "execution_count": 36,
   "metadata": {},
   "outputs": [
    {
     "name": "stdout",
     "output_type": "stream",
     "text": [
      "The given angle is : 1.5707963267948966\n",
      "sin(x) is : 1.0\n",
      "cos(x) is : 6.123233995736766e-17\n",
      "tan(x) is : 1.633123935319537e+16\n"
     ]
    }
   ],
   "source": [
    "import math\n",
    "\n",
    "angleInDegree = 90\n",
    "angleInRadian = math.radians(angleInDegree)\n",
    "\n",
    "print('The given angle is :', angleInRadian)\n",
    "print('sin(x) is :', math.sin(angleInRadian))\n",
    "print('cos(x) is :', math.cos(angleInRadian))\n",
    "print('tan(x) is :', math.tan(angleInRadian))"
   ]
  },
  {
   "cell_type": "code",
   "execution_count": null,
   "metadata": {},
   "outputs": [],
   "source": []
  }
 ],
 "metadata": {
  "kernelspec": {
   "display_name": "Python 3",
   "language": "python",
   "name": "python3"
  },
  "language_info": {
   "codemirror_mode": {
    "name": "ipython",
    "version": 3
   },
   "file_extension": ".py",
   "mimetype": "text/x-python",
   "name": "python",
   "nbconvert_exporter": "python",
   "pygments_lexer": "ipython3",
   "version": "3.7.3"
  }
 },
 "nbformat": 4,
 "nbformat_minor": 2
}
