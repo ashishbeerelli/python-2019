{
 "cells": [
  {
   "cell_type": "code",
   "execution_count": 13,
   "metadata": {},
   "outputs": [
    {
     "data": {
      "text/plain": [
       "90"
      ]
     },
     "execution_count": 13,
     "metadata": {},
     "output_type": "execute_result"
    }
   ],
   "source": [
    "def printeven(n):\n",
    "    count=0\n",
    "    sum=0\n",
    "    while(count!=n):\n",
    "        if(count%2==0):\n",
    "            sum=sum+count\n",
    "        count=count+1\n",
    "    return sum;\n",
    "        \n",
    "printeven(20)"
   ]
  },
  {
   "cell_type": "code",
   "execution_count": 23,
   "metadata": {},
   "outputs": [
    {
     "name": "stdout",
     "output_type": "stream",
     "text": [
      "1 2 4 5 10 "
     ]
    },
    {
     "data": {
      "text/plain": [
       "20"
      ]
     },
     "execution_count": 23,
     "metadata": {},
     "output_type": "execute_result"
    }
   ],
   "source": [
    "def factorslist(n):\n",
    "    i=1;\n",
    "    while(i!=n):\n",
    "        if(n%i==0):\n",
    "            print(i,end= \" \")\n",
    "        i=i+1\n",
    "    return i ;\n",
    "factorslist(20)"
   ]
  },
  {
   "cell_type": "code",
   "execution_count": 24,
   "metadata": {},
   "outputs": [
    {
     "name": "stdout",
     "output_type": "stream",
     "text": [
      "[1, 2, 3, 4, 5]\n",
      "1\n"
     ]
    }
   ],
   "source": [
    "list1 = [1,2,3,4,5];\n",
    "print(list1)\n",
    "print(list1[0])"
   ]
  },
  {
   "cell_type": "code",
   "execution_count": 44,
   "metadata": {},
   "outputs": [
    {
     "name": "stdout",
     "output_type": "stream",
     "text": [
      "1 2 3 4 5 6 7 \n",
      "6\n",
      "[2, 3, 4, 5, 6]\n",
      "[3, 4, 5]\n",
      "[4]\n",
      "[1, 3, 5, 7]\n",
      "[1, 4, 7]\n"
     ]
    }
   ],
   "source": [
    "list1=[1,2,3,4,5,6,7]\n",
    "for x in list1:\n",
    "    print(x,end= \" \")\n",
    "print()\n",
    "print(list1[5])\n",
    "print(list1[1:-1])\n",
    "print(list1[2:-2])\n",
    "print(list1[3:-3])\n",
    "print(list1[::2])\n",
    "print(list1[::3])\n"
   ]
  },
  {
   "cell_type": "code",
   "execution_count": 33,
   "metadata": {},
   "outputs": [
    {
     "name": "stdout",
     "output_type": "stream",
     "text": [
      "5\n",
      "6\n",
      "7\n",
      "8\n",
      "9\n"
     ]
    }
   ],
   "source": [
    "for i in range(5,10):\n",
    "    print(i)"
   ]
  },
  {
   "cell_type": "code",
   "execution_count": 6,
   "metadata": {},
   "outputs": [
    {
     "name": "stdout",
     "output_type": "stream",
     "text": [
      "1 2 3 4 5 6 7 \n",
      "[7, 5, 3, 1]\n",
      "[2, 3, 4, 5]\n"
     ]
    }
   ],
   "source": [
    "list1=[1,2,3,4,5,6,7]\n",
    "for x in list1:\n",
    "    print(x,end= \" \")\n",
    "print()\n",
    "print(list1[::-2])\n",
    "print(list1[1:5])\n"
   ]
  },
  {
   "cell_type": "code",
   "execution_count": 19,
   "metadata": {
    "scrolled": false
   },
   "outputs": [
    {
     "name": "stdout",
     "output_type": "stream",
     "text": [
      "['ab', 'ac', 'ad', 'ae', 'af']\n",
      "['ab', 'ac', 14, 'ae', 'af']\n",
      "['ab', 'ac', 14, 'abdf', 'af']\n",
      "['ab', 'ac', 'abdf', 'af']\n",
      "['ab', 'kousiv', 'abdf', 'af']\n",
      "4\n",
      "['ab', 'kousiv', 'abdf', 'af', 11]\n",
      "['ab', 'kousiv', 'abdf', 'af', 11, 11]\n",
      "2\n",
      "1\n"
     ]
    }
   ],
   "source": [
    "list1=[\"ab\",\"ac\",\"ad\",\"ae\",\"af\"]\n",
    "print(list1)\n",
    "\n",
    "list1[2]=14\n",
    "print(list1)\n",
    "list1[3]=\"abdf\"\n",
    "print(list1)\n",
    "del list1[2]\n",
    "print(list1)\n",
    "list1[1]=\"kousiv\"\n",
    "print(list1)\n",
    "print(len(list1))\n",
    "list1.append(11)\n",
    "print(list1)\n",
    "list1.append(11)\n",
    "print(list1)\n",
    "print(list1.count(11))\n",
    "print(list1.count(\"ab\"))"
   ]
  },
  {
   "cell_type": "raw",
   "metadata": {},
   "source": [
    "list1=[\"ab\",\"ac\",\"ad\",\"ae\",\"af\"]\n",
    "print(list1)"
   ]
  },
  {
   "cell_type": "code",
   "execution_count": 4,
   "metadata": {},
   "outputs": [
    {
     "name": "stdout",
     "output_type": "stream",
     "text": [
      "['ab', 'ac', 'ad', 'ae', 'af', 'ac']\n",
      "['ab', 'ad', 'ae', 'af', 'ac']\n",
      "['ac', 'af', 'ae', 'ad', 'ab']\n",
      "['ac', 'af', 'ae', 'ad', 'ab']\n",
      "0\n"
     ]
    }
   ],
   "source": [
    "list1=[\"ab\",\"ac\",\"ad\",\"ae\",\"af\",\"ac\"]\n",
    "print(list1)\n",
    "list1.remove(\"ac\")\n",
    "print(list1)\n",
    "list1.reverse()\n",
    "print(list1)\n",
    "list1.index(\"ac\")\n",
    "print(list1)\n",
    "print(list1.index(\"ac\"))"
   ]
  },
  {
   "cell_type": "code",
   "execution_count": 12,
   "metadata": {},
   "outputs": [
    {
     "name": "stdout",
     "output_type": "stream",
     "text": [
      "target item is found\n"
     ]
    }
   ],
   "source": [
    "def linearsearch(a,taritem):\n",
    "    flag=0\n",
    "    for i in range(len(a)):\n",
    "        if a[i]==taritem:\n",
    "            flag=1\n",
    "            break\n",
    "    if(flag!=0):\n",
    "        print(\"target item is found\")\n",
    "    else:\n",
    "        print(\"tardet is not found\")\n",
    "\n",
    "a=[54,4,56,45,6,]\n",
    "linearsearch(a,54)"
   ]
  },
  {
   "cell_type": "code",
   "execution_count": 2,
   "metadata": {},
   "outputs": [
    {
     "name": "stdout",
     "output_type": "stream",
     "text": [
      "2\n"
     ]
    }
   ],
   "source": [
    "def linearsearchduplicate(a,taritem):\n",
    "    flag=0\n",
    "    for i in range(len(a)):\n",
    "        if a[i]==taritem:\n",
    "            flag=flag+1\n",
    "            \n",
    "    print(flag)\n",
    "    \n",
    "a=[3,4,56,76,4,7,78,3]\n",
    "linearsearchduplicate(a,3)"
   ]
  },
  {
   "cell_type": "markdown",
   "metadata": {},
   "source": []
  },
  {
   "cell_type": "code",
   "execution_count": 9,
   "metadata": {},
   "outputs": [
    {
     "name": "stdout",
     "output_type": "stream",
     "text": [
      "1\n",
      "5\n"
     ]
    }
   ],
   "source": [
    "def linerexample(a,taritem):\n",
    "    flag=0\n",
    "    i=0\n",
    "    for i in range(len(a)):\n",
    "        if (a[i]==taritem):\n",
    "            print(flag)\n",
    "            i+1\n",
    "        flag=flag+1\n",
    "a=[4,55,6,4,54,55]\n",
    "linerexample(a,55)"
   ]
  },
  {
   "cell_type": "code",
   "execution_count": 12,
   "metadata": {},
   "outputs": [
    {
     "name": "stdout",
     "output_type": "stream",
     "text": [
      "@ @  \n",
      "@ @ @ @ @  \n"
     ]
    }
   ],
   "source": [
    "def linerexample2(a,taritem):\n",
    "    for i in range(len(a)):\n",
    "        if a[i]==taritem:\n",
    "            j=0\n",
    "            while j!=i:\n",
    "                print(\"@\",end= \" \")\n",
    "                j=j+1\n",
    "            print(\" \")\n",
    "a=[4,5,6,4,34,6]\n",
    "linerexample2(a,6)"
   ]
  },
  {
   "cell_type": "code",
   "execution_count": 23,
   "metadata": {},
   "outputs": [
    {
     "name": "stdout",
     "output_type": "stream",
     "text": [
      "45\n"
     ]
    }
   ],
   "source": [
    "def linerexample2(a):\n",
    "    sum=0\n",
    "    for i in range(len(a)):\n",
    "            if (a[i]%3==0 and a[i]%5==0):\n",
    "                sum=sum+a[i]\n",
    "    print(sum)\n",
    "a=[3,5,12,34,30,15]\n",
    "linerexample2(a)"
   ]
  },
  {
   "cell_type": "code",
   "execution_count": 25,
   "metadata": {},
   "outputs": [
    {
     "name": "stdout",
     "output_type": "stream",
     "text": [
      "1 4 15 24 35 7 "
     ]
    }
   ],
   "source": [
    "def linerexample3(a):\n",
    "     for i in range(len(a)):\n",
    "            if i==0 or i==(len(a)-1):\n",
    "                print(a[i],end= \" \")\n",
    "            else:\n",
    "                print(a[i-1]*a[i+1],end= \" \")\n",
    "a=[1,3,4,5,6,7]\n",
    "linerexample3(a)             "
   ]
  },
  {
   "cell_type": "code",
   "execution_count": 3,
   "metadata": {},
   "outputs": [
    {
     "name": "stdout",
     "output_type": "stream",
     "text": [
      "3 5 8 7 "
     ]
    }
   ],
   "source": [
    "def linerexample4(a):\n",
    "     for i in range(len(a)):\n",
    "            if i==0 or i==(len(a)-1):\n",
    "                print(a[i],end= \" \")\n",
    "            elif a[i-1]%2==0 and a[i+1]%2==0:\n",
    "                print(a[i],end= \" \")\n",
    "               \n",
    "                     \n",
    "a=[3,44,5,66,8,10,7]\n",
    "linerexample4(a)"
   ]
  },
  {
   "cell_type": "code",
   "execution_count": 4,
   "metadata": {},
   "outputs": [
    {
     "name": "stdout",
     "output_type": "stream",
     "text": [
      "enter the number14256\n",
      "[1, 4, 2, 5, 6]\n"
     ]
    }
   ],
   "source": [
    "def numtolistcon(n):\n",
    "    list=[]\n",
    "    while n!=0:\n",
    "        r=n%10\n",
    "        list.append(r)\n",
    "        n=n//10\n",
    "    list.reverse()\n",
    "    print(list)\n",
    "    \n",
    "n=int(input(\"enter the number\"))\n",
    "numtolistcon(n)\n",
    "        "
   ]
  },
  {
   "cell_type": "code",
   "execution_count": null,
   "metadata": {},
   "outputs": [],
   "source": [
    "def numtolistcon1(n):\n",
    "    for i in range(len(a)):\n",
    "        \n",
    "        "
   ]
  }
 ],
 "metadata": {
  "kernelspec": {
   "display_name": "Python 3",
   "language": "python",
   "name": "python3"
  },
  "language_info": {
   "codemirror_mode": {
    "name": "ipython",
    "version": 3
   },
   "file_extension": ".py",
   "mimetype": "text/x-python",
   "name": "python",
   "nbconvert_exporter": "python",
   "pygments_lexer": "ipython3",
   "version": "3.7.3"
  }
 },
 "nbformat": 4,
 "nbformat_minor": 2
}
