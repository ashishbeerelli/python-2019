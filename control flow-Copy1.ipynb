{
 "cells": [
  {
   "cell_type": "code",
   "execution_count": null,
   "metadata": {},
   "outputs": [],
   "source": [
    "\n"
   ]
  },
  {
   "cell_type": "code",
   "execution_count": 4,
   "metadata": {
    "scrolled": true
   },
   "outputs": [
    {
     "name": "stdout",
     "output_type": "stream",
     "text": [
      "x greater than 20\n"
     ]
    }
   ],
   "source": [
    "x=35\n",
    "if(x>=20):\n",
    "    print(\"x greater than 20\")\n"
   ]
  },
  {
   "cell_type": "code",
   "execution_count": 3,
   "metadata": {},
   "outputs": [
    {
     "name": "stdout",
     "output_type": "stream",
     "text": [
      "y is less than x\n"
     ]
    }
   ],
   "source": [
    "x=37\n",
    "y=30\n",
    "if(x<y):\n",
    "    print(\"x is less than y\")\n",
    "else:\n",
    "    print(\"y is less than x\")\n"
   ]
  },
  {
   "cell_type": "code",
   "execution_count": 5,
   "metadata": {},
   "outputs": [
    {
     "name": "stdout",
     "output_type": "stream",
     "text": [
      "88642\n"
     ]
    }
   ],
   "source": [
    "x=943\n",
    "y=94\n",
    "if(x==y):\n",
    "    print(x**2)\n",
    "else:\n",
    "    print(x*y)"
   ]
  },
  {
   "cell_type": "code",
   "execution_count": 6,
   "metadata": {},
   "outputs": [
    {
     "name": "stdout",
     "output_type": "stream",
     "text": [
      "x greater than 0 **positive**\n"
     ]
    }
   ],
   "source": [
    "x=6\n",
    "if(x==0):\n",
    "    print(\"x is equal to 0\")\n",
    "elif(x<0):\n",
    "    print(\"x is less than 0 **negative**\")\n",
    "else:\n",
    "    print(\"x greater than 0 **positive**\")"
   ]
  },
  {
   "cell_type": "code",
   "execution_count": 1,
   "metadata": {
    "scrolled": true
   },
   "outputs": [
    {
     "name": "stdout",
     "output_type": "stream",
     "text": [
      "0\n",
      "1\n",
      "2\n",
      "3\n",
      "4\n",
      "5\n",
      "6\n",
      "7\n",
      "8\n",
      "9\n",
      "10\n"
     ]
    }
   ],
   "source": [
    "n=0\n",
    "while(n<=10):\n",
    "    print(n)\n",
    "    n=n+1"
   ]
  },
  {
   "cell_type": "code",
   "execution_count": 2,
   "metadata": {},
   "outputs": [
    {
     "name": "stdout",
     "output_type": "stream",
     "text": [
      "-22\n",
      "-23\n",
      "-24\n",
      "-25\n",
      "-26\n",
      "-27\n",
      "-28\n",
      "-29\n",
      "-30\n",
      "-31\n",
      "-32\n",
      "-33\n",
      "-34\n",
      "-35\n",
      "-36\n",
      "-37\n",
      "-38\n",
      "-39\n",
      "-40\n",
      "-41\n",
      "-42\n",
      "-43\n",
      "-44\n"
     ]
    }
   ],
   "source": [
    "n=-22\n",
    "while(n>=-44):\n",
    "    print(n)\n",
    "    n=n-1"
   ]
  }
 ],
 "metadata": {
  "kernelspec": {
   "display_name": "Python 3",
   "language": "python",
   "name": "python3"
  },
  "language_info": {
   "codemirror_mode": {
    "name": "ipython",
    "version": 3
   },
   "file_extension": ".py",
   "mimetype": "text/x-python",
   "name": "python",
   "nbconvert_exporter": "python",
   "pygments_lexer": "ipython3",
   "version": "3.7.3"
  }
 },
 "nbformat": 4,
 "nbformat_minor": 2
}
